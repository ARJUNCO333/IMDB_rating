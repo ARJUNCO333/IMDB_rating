{
  "cells": [
    {
      "cell_type": "markdown",
      "metadata": {
        "id": "view-in-github",
        "colab_type": "text"
      },
      "source": [
        "<a href=\"https://colab.research.google.com/github/ARJUNCO333/IMDB_rating/blob/main/IMDB_rating.ipynb\" target=\"_parent\"><img src=\"https://colab.research.google.com/assets/colab-badge.svg\" alt=\"Open In Colab\"/></a>"
      ]
    },
    {
      "cell_type": "code",
      "execution_count": null,
      "metadata": {
        "id": "fAtP7zp-iVKT"
      },
      "outputs": [],
      "source": [
        "import numpy as np\n",
        "import pandas as pd\n",
        "import matplotlib.pyplot as plt\n",
        "import seaborn as sns\n",
        "import nltk\n",
        "from nltk.corpus import stopwords\n",
        "from nltk import TweetTokenizer\n",
        "from nltk.tokenize import word_tokenize\n",
        "import re\n",
        "from nltk.stem import SnowballStemmer\n",
        "from sklearn.feature_extraction.text import CountVectorizer\n",
        "from sklearn.model_selection import train_test_split\n",
        "from sklearn.naive_bayes import MultinomialNB\n",
        "from sklearn.metrics import confusion_matrix,accuracy_score,classification_report"
      ]
    },
    {
      "cell_type": "code",
      "execution_count": null,
      "metadata": {
        "colab": {
          "base_uri": "https://localhost:8080/",
          "height": 206
        },
        "id": "tUsyDbTKiVKU",
        "outputId": "bfe255f3-c8d0-4f77-ea03-cf475b2b430b"
      },
      "outputs": [
        {
          "data": {
            "text/html": [
              "<div>\n",
              "<style scoped>\n",
              "    .dataframe tbody tr th:only-of-type {\n",
              "        vertical-align: middle;\n",
              "    }\n",
              "\n",
              "    .dataframe tbody tr th {\n",
              "        vertical-align: top;\n",
              "    }\n",
              "\n",
              "    .dataframe thead th {\n",
              "        text-align: right;\n",
              "    }\n",
              "</style>\n",
              "<table border=\"1\" class=\"dataframe\">\n",
              "  <thead>\n",
              "    <tr style=\"text-align: right;\">\n",
              "      <th></th>\n",
              "      <th>text</th>\n",
              "      <th>sentiment</th>\n",
              "    </tr>\n",
              "  </thead>\n",
              "  <tbody>\n",
              "    <tr>\n",
              "      <th>0</th>\n",
              "      <td>Now, I won't deny that when I purchased this o...</td>\n",
              "      <td>neg</td>\n",
              "    </tr>\n",
              "    <tr>\n",
              "      <th>1</th>\n",
              "      <td>The saddest thing about this \"tribute\" is that...</td>\n",
              "      <td>neg</td>\n",
              "    </tr>\n",
              "    <tr>\n",
              "      <th>2</th>\n",
              "      <td>Last night I decided to watch the prequel or s...</td>\n",
              "      <td>neg</td>\n",
              "    </tr>\n",
              "    <tr>\n",
              "      <th>3</th>\n",
              "      <td>I have to admit that i liked the first half of...</td>\n",
              "      <td>neg</td>\n",
              "    </tr>\n",
              "    <tr>\n",
              "      <th>4</th>\n",
              "      <td>I was not impressed about this film especially...</td>\n",
              "      <td>neg</td>\n",
              "    </tr>\n",
              "  </tbody>\n",
              "</table>\n",
              "</div>"
            ],
            "text/plain": [
              "                                                text sentiment\n",
              "0  Now, I won't deny that when I purchased this o...       neg\n",
              "1  The saddest thing about this \"tribute\" is that...       neg\n",
              "2  Last night I decided to watch the prequel or s...       neg\n",
              "3  I have to admit that i liked the first half of...       neg\n",
              "4  I was not impressed about this film especially...       neg"
            ]
          },
          "execution_count": 6,
          "metadata": {},
          "output_type": "execute_result"
        }
      ],
      "source": [
        "\n",
        "data=pd.read_csv('/Users/ishaq/Downloads/archive/train.csv')\n",
        "data.head()"
      ]
    },
    {
      "cell_type": "code",
      "execution_count": null,
      "metadata": {
        "colab": {
          "base_uri": "https://localhost:8080/",
          "height": 206
        },
        "id": "hkPqcD_EiVKW",
        "outputId": "8870fa35-f180-4fc0-acb4-01615926656a"
      },
      "outputs": [
        {
          "data": {
            "text/html": [
              "<div>\n",
              "<style scoped>\n",
              "    .dataframe tbody tr th:only-of-type {\n",
              "        vertical-align: middle;\n",
              "    }\n",
              "\n",
              "    .dataframe tbody tr th {\n",
              "        vertical-align: top;\n",
              "    }\n",
              "\n",
              "    .dataframe thead th {\n",
              "        text-align: right;\n",
              "    }\n",
              "</style>\n",
              "<table border=\"1\" class=\"dataframe\">\n",
              "  <thead>\n",
              "    <tr style=\"text-align: right;\">\n",
              "      <th></th>\n",
              "      <th>text</th>\n",
              "      <th>sentiment</th>\n",
              "    </tr>\n",
              "  </thead>\n",
              "  <tbody>\n",
              "    <tr>\n",
              "      <th>24995</th>\n",
              "      <td>This film is fun, if your a person who likes a...</td>\n",
              "      <td>pos</td>\n",
              "    </tr>\n",
              "    <tr>\n",
              "      <th>24996</th>\n",
              "      <td>After seeing this film I feel like I know just...</td>\n",
              "      <td>pos</td>\n",
              "    </tr>\n",
              "    <tr>\n",
              "      <th>24997</th>\n",
              "      <td>first this deserves about 5 stars due to actin...</td>\n",
              "      <td>neg</td>\n",
              "    </tr>\n",
              "    <tr>\n",
              "      <th>24998</th>\n",
              "      <td>If you like films that ramble with little plot...</td>\n",
              "      <td>neg</td>\n",
              "    </tr>\n",
              "    <tr>\n",
              "      <th>24999</th>\n",
              "      <td>As interesting as a sheet of cardboard, this d...</td>\n",
              "      <td>neg</td>\n",
              "    </tr>\n",
              "  </tbody>\n",
              "</table>\n",
              "</div>"
            ],
            "text/plain": [
              "                                                    text sentiment\n",
              "24995  This film is fun, if your a person who likes a...       pos\n",
              "24996  After seeing this film I feel like I know just...       pos\n",
              "24997  first this deserves about 5 stars due to actin...       neg\n",
              "24998  If you like films that ramble with little plot...       neg\n",
              "24999  As interesting as a sheet of cardboard, this d...       neg"
            ]
          },
          "execution_count": 7,
          "metadata": {},
          "output_type": "execute_result"
        }
      ],
      "source": [
        "data.tail()"
      ]
    },
    {
      "cell_type": "code",
      "execution_count": null,
      "metadata": {
        "colab": {
          "base_uri": "https://localhost:8080/"
        },
        "id": "H90-TWrSiVKW",
        "outputId": "7195b657-898c-4795-ea4c-f9aa2e5fdde7"
      },
      "outputs": [
        {
          "name": "stdout",
          "output_type": "stream",
          "text": [
            "<class 'pandas.core.frame.DataFrame'>\n",
            "RangeIndex: 25000 entries, 0 to 24999\n",
            "Data columns (total 2 columns):\n",
            " #   Column     Non-Null Count  Dtype \n",
            "---  ------     --------------  ----- \n",
            " 0   text       25000 non-null  object\n",
            " 1   sentiment  25000 non-null  object\n",
            "dtypes: object(2)\n",
            "memory usage: 390.8+ KB\n"
          ]
        }
      ],
      "source": [
        "data.info()"
      ]
    },
    {
      "cell_type": "markdown",
      "metadata": {
        "id": "_P_s8HoviVKW"
      },
      "source": [
        "Data Exploration"
      ]
    },
    {
      "cell_type": "code",
      "execution_count": null,
      "metadata": {
        "colab": {
          "base_uri": "https://localhost:8080/"
        },
        "id": "vj4E3fDSiVKX",
        "outputId": "5634e147-688f-4585-8ec0-8fa243c9fa78"
      },
      "outputs": [
        {
          "data": {
            "text/plain": [
              "sentiment\n",
              "neg    12500\n",
              "pos    12500\n",
              "Name: count, dtype: int64"
            ]
          },
          "execution_count": 9,
          "metadata": {},
          "output_type": "execute_result"
        }
      ],
      "source": [
        "data['sentiment'].value_counts()"
      ]
    },
    {
      "cell_type": "code",
      "execution_count": null,
      "metadata": {
        "colab": {
          "base_uri": "https://localhost:8080/",
          "height": 466
        },
        "id": "TPg_5RtsiVKY",
        "outputId": "39d7e55b-55e1-4144-fa64-b8d9d0e86f01"
      },
      "outputs": [
        {
          "data": {
            "text/plain": [
              "<Axes: xlabel='sentiment', ylabel='count'>"
            ]
          },
          "execution_count": 10,
          "metadata": {},
          "output_type": "execute_result"
        },
        {
          "data": {
            "image/png": "[encoded data removed]",
            "text/plain": [
              "<Figure size 640x480 with 1 Axes>"
            ]
          },
          "metadata": {},
          "output_type": "display_data"
        }
      ],
      "source": [
        "sns.countplot(x=data['sentiment'])"
      ]
    },
    {
      "cell_type": "code",
      "execution_count": null,
      "metadata": {
        "id": "PnMp0uGpiVKY"
      },
      "outputs": [],
      "source": [
        "data['text_count']=data['text'].apply(len)"
      ]
    },
    {
      "cell_type": "code",
      "execution_count": null,
      "metadata": {
        "colab": {
          "base_uri": "https://localhost:8080/",
          "height": 423
        },
        "id": "E3Yy3FqriVKZ",
        "outputId": "0bc24fcf-d6fd-4aeb-f57b-823ea1be93f8"
      },
      "outputs": [
        {
          "data": {
            "text/html": [
              "<div>\n",
              "<style scoped>\n",
              "    .dataframe tbody tr th:only-of-type {\n",
              "        vertical-align: middle;\n",
              "    }\n",
              "\n",
              "    .dataframe tbody tr th {\n",
              "        vertical-align: top;\n",
              "    }\n",
              "\n",
              "    .dataframe thead th {\n",
              "        text-align: right;\n",
              "    }\n",
              "</style>\n",
              "<table border=\"1\" class=\"dataframe\">\n",
              "  <thead>\n",
              "    <tr style=\"text-align: right;\">\n",
              "      <th></th>\n",
              "      <th>text</th>\n",
              "      <th>sentiment</th>\n",
              "      <th>text_count</th>\n",
              "    </tr>\n",
              "  </thead>\n",
              "  <tbody>\n",
              "    <tr>\n",
              "      <th>0</th>\n",
              "      <td>Now, I won't deny that when I purchased this o...</td>\n",
              "      <td>neg</td>\n",
              "      <td>719</td>\n",
              "    </tr>\n",
              "    <tr>\n",
              "      <th>1</th>\n",
              "      <td>The saddest thing about this \"tribute\" is that...</td>\n",
              "      <td>neg</td>\n",
              "      <td>1857</td>\n",
              "    </tr>\n",
              "    <tr>\n",
              "      <th>2</th>\n",
              "      <td>Last night I decided to watch the prequel or s...</td>\n",
              "      <td>neg</td>\n",
              "      <td>945</td>\n",
              "    </tr>\n",
              "    <tr>\n",
              "      <th>3</th>\n",
              "      <td>I have to admit that i liked the first half of...</td>\n",
              "      <td>neg</td>\n",
              "      <td>913</td>\n",
              "    </tr>\n",
              "    <tr>\n",
              "      <th>4</th>\n",
              "      <td>I was not impressed about this film especially...</td>\n",
              "      <td>neg</td>\n",
              "      <td>985</td>\n",
              "    </tr>\n",
              "    <tr>\n",
              "      <th>...</th>\n",
              "      <td>...</td>\n",
              "      <td>...</td>\n",
              "      <td>...</td>\n",
              "    </tr>\n",
              "    <tr>\n",
              "      <th>24995</th>\n",
              "      <td>This film is fun, if your a person who likes a...</td>\n",
              "      <td>pos</td>\n",
              "      <td>245</td>\n",
              "    </tr>\n",
              "    <tr>\n",
              "      <th>24996</th>\n",
              "      <td>After seeing this film I feel like I know just...</td>\n",
              "      <td>pos</td>\n",
              "      <td>780</td>\n",
              "    </tr>\n",
              "    <tr>\n",
              "      <th>24997</th>\n",
              "      <td>first this deserves about 5 stars due to actin...</td>\n",
              "      <td>neg</td>\n",
              "      <td>4973</td>\n",
              "    </tr>\n",
              "    <tr>\n",
              "      <th>24998</th>\n",
              "      <td>If you like films that ramble with little plot...</td>\n",
              "      <td>neg</td>\n",
              "      <td>1134</td>\n",
              "    </tr>\n",
              "    <tr>\n",
              "      <th>24999</th>\n",
              "      <td>As interesting as a sheet of cardboard, this d...</td>\n",
              "      <td>neg</td>\n",
              "      <td>303</td>\n",
              "    </tr>\n",
              "  </tbody>\n",
              "</table>\n",
              "<p>25000 rows × 3 columns</p>\n",
              "</div>"
            ],
            "text/plain": [
              "                                                    text sentiment  text_count\n",
              "0      Now, I won't deny that when I purchased this o...       neg         719\n",
              "1      The saddest thing about this \"tribute\" is that...       neg        1857\n",
              "2      Last night I decided to watch the prequel or s...       neg         945\n",
              "3      I have to admit that i liked the first half of...       neg         913\n",
              "4      I was not impressed about this film especially...       neg         985\n",
              "...                                                  ...       ...         ...\n",
              "24995  This film is fun, if your a person who likes a...       pos         245\n",
              "24996  After seeing this film I feel like I know just...       pos         780\n",
              "24997  first this deserves about 5 stars due to actin...       neg        4973\n",
              "24998  If you like films that ramble with little plot...       neg        1134\n",
              "24999  As interesting as a sheet of cardboard, this d...       neg         303\n",
              "\n",
              "[25000 rows x 3 columns]"
            ]
          },
          "execution_count": 12,
          "metadata": {},
          "output_type": "execute_result"
        }
      ],
      "source": [
        "data"
      ]
    },
    {
      "cell_type": "markdown",
      "metadata": {
        "id": "-92Y-jnJiVKZ"
      },
      "source": [
        "pre-processing data(NLTK)"
      ]
    },
    {
      "cell_type": "code",
      "execution_count": null,
      "metadata": {
        "colab": {
          "base_uri": "https://localhost:8080/",
          "height": 467
        },
        "id": "r3ZbRzkoiVKZ",
        "outputId": "747c1157-963f-4039-f990-fe405f7cbb74"
      },
      "outputs": [
        {
          "data": {
            "text/html": [
              "<div>\n",
              "<style scoped>\n",
              "    .dataframe tbody tr th:only-of-type {\n",
              "        vertical-align: middle;\n",
              "    }\n",
              "\n",
              "    .dataframe tbody tr th {\n",
              "        vertical-align: top;\n",
              "    }\n",
              "\n",
              "    .dataframe thead th {\n",
              "        text-align: right;\n",
              "    }\n",
              "</style>\n",
              "<table border=\"1\" class=\"dataframe\">\n",
              "  <thead>\n",
              "    <tr style=\"text-align: right;\">\n",
              "      <th></th>\n",
              "      <th>text</th>\n",
              "      <th>sentiment</th>\n",
              "      <th>text_count</th>\n",
              "      <th>sentiment_map</th>\n",
              "    </tr>\n",
              "  </thead>\n",
              "  <tbody>\n",
              "    <tr>\n",
              "      <th>0</th>\n",
              "      <td>Now, I won't deny that when I purchased this o...</td>\n",
              "      <td>neg</td>\n",
              "      <td>719</td>\n",
              "      <td>0</td>\n",
              "    </tr>\n",
              "    <tr>\n",
              "      <th>1</th>\n",
              "      <td>The saddest thing about this \"tribute\" is that...</td>\n",
              "      <td>neg</td>\n",
              "      <td>1857</td>\n",
              "      <td>0</td>\n",
              "    </tr>\n",
              "    <tr>\n",
              "      <th>2</th>\n",
              "      <td>Last night I decided to watch the prequel or s...</td>\n",
              "      <td>neg</td>\n",
              "      <td>945</td>\n",
              "      <td>0</td>\n",
              "    </tr>\n",
              "    <tr>\n",
              "      <th>3</th>\n",
              "      <td>I have to admit that i liked the first half of...</td>\n",
              "      <td>neg</td>\n",
              "      <td>913</td>\n",
              "      <td>0</td>\n",
              "    </tr>\n",
              "    <tr>\n",
              "      <th>4</th>\n",
              "      <td>I was not impressed about this film especially...</td>\n",
              "      <td>neg</td>\n",
              "      <td>985</td>\n",
              "      <td>0</td>\n",
              "    </tr>\n",
              "    <tr>\n",
              "      <th>...</th>\n",
              "      <td>...</td>\n",
              "      <td>...</td>\n",
              "      <td>...</td>\n",
              "      <td>...</td>\n",
              "    </tr>\n",
              "    <tr>\n",
              "      <th>24995</th>\n",
              "      <td>This film is fun, if your a person who likes a...</td>\n",
              "      <td>pos</td>\n",
              "      <td>245</td>\n",
              "      <td>1</td>\n",
              "    </tr>\n",
              "    <tr>\n",
              "      <th>24996</th>\n",
              "      <td>After seeing this film I feel like I know just...</td>\n",
              "      <td>pos</td>\n",
              "      <td>780</td>\n",
              "      <td>1</td>\n",
              "    </tr>\n",
              "    <tr>\n",
              "      <th>24997</th>\n",
              "      <td>first this deserves about 5 stars due to actin...</td>\n",
              "      <td>neg</td>\n",
              "      <td>4973</td>\n",
              "      <td>0</td>\n",
              "    </tr>\n",
              "    <tr>\n",
              "      <th>24998</th>\n",
              "      <td>If you like films that ramble with little plot...</td>\n",
              "      <td>neg</td>\n",
              "      <td>1134</td>\n",
              "      <td>0</td>\n",
              "    </tr>\n",
              "    <tr>\n",
              "      <th>24999</th>\n",
              "      <td>As interesting as a sheet of cardboard, this d...</td>\n",
              "      <td>neg</td>\n",
              "      <td>303</td>\n",
              "      <td>0</td>\n",
              "    </tr>\n",
              "  </tbody>\n",
              "</table>\n",
              "<p>25000 rows × 4 columns</p>\n",
              "</div>"
            ],
            "text/plain": [
              "                                                    text sentiment   \n",
              "0      Now, I won't deny that when I purchased this o...       neg  \\\n",
              "1      The saddest thing about this \"tribute\" is that...       neg   \n",
              "2      Last night I decided to watch the prequel or s...       neg   \n",
              "3      I have to admit that i liked the first half of...       neg   \n",
              "4      I was not impressed about this film especially...       neg   \n",
              "...                                                  ...       ...   \n",
              "24995  This film is fun, if your a person who likes a...       pos   \n",
              "24996  After seeing this film I feel like I know just...       pos   \n",
              "24997  first this deserves about 5 stars due to actin...       neg   \n",
              "24998  If you like films that ramble with little plot...       neg   \n",
              "24999  As interesting as a sheet of cardboard, this d...       neg   \n",
              "\n",
              "       text_count  sentiment_map  \n",
              "0             719              0  \n",
              "1            1857              0  \n",
              "2             945              0  \n",
              "3             913              0  \n",
              "4             985              0  \n",
              "...           ...            ...  \n",
              "24995         245              1  \n",
              "24996         780              1  \n",
              "24997        4973              0  \n",
              "24998        1134              0  \n",
              "24999         303              0  \n",
              "\n",
              "[25000 rows x 4 columns]"
            ]
          },
          "execution_count": 13,
          "metadata": {},
          "output_type": "execute_result"
        }
      ],
      "source": [
        "data['sentiment_map']=data['sentiment'].apply(lambda x:1 if x=='pos' else 0)\n",
        "data"
      ]
    },
    {
      "cell_type": "code",
      "execution_count": null,
      "metadata": {
        "colab": {
          "base_uri": "https://localhost:8080/"
        },
        "id": "yWCAzkOqiVKa",
        "outputId": "225e1a5e-1cbe-42a5-fdc4-a1fa90ec98dd"
      },
      "outputs": [
        {
          "name": "stderr",
          "output_type": "stream",
          "text": [
            "[nltk_data] Downloading package stopwords to\n",
            "[nltk_data]     C:\\Users\\ishaq\\AppData\\Roaming\\nltk_data...\n",
            "[nltk_data]   Unzipping corpora\\stopwords.zip.\n",
            "[nltk_data] Downloading package wordnet to\n",
            "[nltk_data]     C:\\Users\\ishaq\\AppData\\Roaming\\nltk_data...\n",
            "[nltk_data] Downloading package punkt to\n",
            "[nltk_data]     C:\\Users\\ishaq\\AppData\\Roaming\\nltk_data...\n",
            "[nltk_data]   Unzipping tokenizers\\punkt.zip.\n"
          ]
        },
        {
          "data": {
            "text/plain": [
              "True"
            ]
          },
          "execution_count": 14,
          "metadata": {},
          "output_type": "execute_result"
        }
      ],
      "source": [
        "nltk.download('stopwords')\n",
        "nltk.download('wordnet')\n",
        "nltk.download('punkt')"
      ]
    },
    {
      "cell_type": "code",
      "execution_count": null,
      "metadata": {
        "id": "TTXJ5LC0iVKa"
      },
      "outputs": [],
      "source": [
        "review=data['text']"
      ]
    },
    {
      "cell_type": "code",
      "execution_count": null,
      "metadata": {
        "colab": {
          "base_uri": "https://localhost:8080/"
        },
        "id": "2e1Nqe7iiVKa",
        "outputId": "fc2aed91-9b56-4bfe-b4e8-6edd59855055"
      },
      "outputs": [
        {
          "data": {
            "text/plain": [
              "0        Now , I won't deny that when I purchased this ...\n",
              "1        The saddest thing about this \" tribute \" is th...\n",
              "2        Last night I decided to watch the prequel or s...\n",
              "3        I have to admit that i liked the first half of...\n",
              "4        I was not impressed about this film especially...\n",
              "                               ...                        \n",
              "24995    This film is fun , if your a person who likes ...\n",
              "24996    After seeing this film I feel like I know just...\n",
              "24997    first this deserves about 5 stars due to actin...\n",
              "24998    If you like films that ramble with little plot...\n",
              "24999    As interesting as a sheet of cardboard , this ...\n",
              "Name: text, Length: 25000, dtype: object"
            ]
          },
          "execution_count": 16,
          "metadata": {},
          "output_type": "execute_result"
        }
      ],
      "source": [
        "\n",
        "tk=TweetTokenizer()\n",
        "review=review.apply(lambda x:tk.tokenize(x)).apply(lambda x:\" \".join(x))\n",
        "review"
      ]
    },
    {
      "cell_type": "code",
      "execution_count": null,
      "metadata": {
        "colab": {
          "base_uri": "https://localhost:8080/"
        },
        "id": "n-GThJ4xiVKa",
        "outputId": "f0f62395-f18c-4c6d-8f09-5a8f5e0f1dfc"
      },
      "outputs": [
        {
          "data": {
            "text/plain": [
              "0        Now , I won't deny that when I purchased this ...\n",
              "1        The saddest thing about this \" tribute \" is th...\n",
              "2        Last night I decided to watch the prequel or s...\n",
              "3        I have to admit that i liked the first half of...\n",
              "4        I was not impressed about this film especially...\n",
              "                               ...                        \n",
              "24995    This film is fun , if your a person who likes ...\n",
              "24996    After seeing this film I feel like I know just...\n",
              "24997    first this deserves about 5 stars due to actin...\n",
              "24998    If you like films that ramble with little plot...\n",
              "24999    As interesting as a sheet of cardboard , this ...\n",
              "Name: text, Length: 25000, dtype: object"
            ]
          },
          "execution_count": 17,
          "metadata": {},
          "output_type": "execute_result"
        }
      ],
      "source": [
        "review=review.str.replace('[^a-zA-Z0-9]+',' ')\n",
        "review"
      ]
    },
    {
      "cell_type": "code",
      "execution_count": null,
      "metadata": {
        "colab": {
          "base_uri": "https://localhost:8080/"
        },
        "id": "xXdrCN7SiVKb",
        "outputId": "f9787a1c-47c6-4e18-b886-714913b6dadd"
      },
      "outputs": [
        {
          "data": {
            "text/plain": [
              "0        Now n't deny that when purchased this off eBay...\n",
              "1        The saddest thing about this tribute that almo...\n",
              "2        Last night decided watch the prequel shall say...\n",
              "3        have admit that liked the first half Sleepers ...\n",
              "4        was not impressed about this film especially f...\n",
              "                               ...                        \n",
              "24995    This film fun your person who likes good campy...\n",
              "24996    After seeing this film feel like know just lit...\n",
              "24997    first this deserves about stars due acting som...\n",
              "24998    you like films that ramble with little plot ex...\n",
              "24999    interesting sheet cardboard this dispensable p...\n",
              "Name: text, Length: 25000, dtype: object"
            ]
          },
          "execution_count": 18,
          "metadata": {},
          "output_type": "execute_result"
        }
      ],
      "source": [
        "review=review.apply(lambda x:' '.join([w for w in word_tokenize(x) if len(w)>=3]))\n",
        "review"
      ]
    },
    {
      "cell_type": "code",
      "execution_count": null,
      "metadata": {
        "id": "xjk1i3axiVKb",
        "outputId": "efa01315-cfdf-4373-9ea8-b20dcf6f112f"
      },
      "outputs": [
        {
          "data": {
            "text/plain": [
              "0        now n't deni that when purchas this off ebay h...\n",
              "1        the saddest thing about this tribut that almos...\n",
              "2        last night decid watch the prequel shall say t...\n",
              "3        have admit that like the first half sleeper lo...\n",
              "4        was not impress about this film especi for the...\n",
              "                               ...                        \n",
              "24995    this film fun your person who like good campi ...\n",
              "24996    after see this film feel like know just littl ...\n",
              "24997    first this deserv about star due act some whic...\n",
              "24998    you like film that rambl with littl plot expos...\n",
              "24999    interest sheet cardboard this dispens period p...\n",
              "Name: text, Length: 25000, dtype: object"
            ]
          },
          "execution_count": 19,
          "metadata": {},
          "output_type": "execute_result"
        }
      ],
      "source": [
        "stemmer=SnowballStemmer(\"english\")\n",
        "review=review.apply(lambda x:[stemmer.stem(i.lower())for i in tk.tokenize(x)]).apply(lambda x:' '.join(x))\n",
        "review"
      ]
    },
    {
      "cell_type": "code",
      "execution_count": null,
      "metadata": {
        "id": "9qLe6x6tiVKb",
        "outputId": "43b1b659-aaae-4617-b1d4-e1c1880fc8f5"
      },
      "outputs": [
        {
          "data": {
            "text/plain": [
              "0        n't deni purchas ebay high expect incred out-o...\n",
              "1        saddest thing tribut almost singer includ othe...\n",
              "2        last night decid watch prequel shall say call ...\n",
              "3        admit like first half sleeper look good act ev...\n",
              "4        impress film especi fact went cinema famili go...\n",
              "                               ...                        \n",
              "24995    film fun person like good campi featur film ev...\n",
              "24996    see film feel like know littl bit usa david ly...\n",
              "24997    first deserv star due act would give better su...\n",
              "24998    like film rambl littl plot exposit spice kinki...\n",
              "24999    interest sheet cardboard dispens period piec l...\n",
              "Name: text, Length: 25000, dtype: object"
            ]
          },
          "execution_count": 20,
          "metadata": {},
          "output_type": "execute_result"
        }
      ],
      "source": [
        "stop=stopwords.words('english')\n",
        "review=review.apply(lambda x:[i for i in tk.tokenize(x) if i not in stop]).apply(lambda x:' '.join(x))\n",
        "review"
      ]
    },
    {
      "cell_type": "code",
      "execution_count": null,
      "metadata": {
        "id": "tJZnHCPaiVKb"
      },
      "outputs": [],
      "source": [
        "vector=CountVectorizer()\n",
        "cv=vector.fit_transform(review).toarray()\n"
      ]
    },
    {
      "cell_type": "code",
      "execution_count": null,
      "metadata": {
        "id": "3nlJs4QziVKb"
      },
      "outputs": [],
      "source": [
        "x=cv\n",
        "y=data['sentiment_map']"
      ]
    },
    {
      "cell_type": "markdown",
      "metadata": {
        "id": "Vzr8q-Z3iVKc"
      },
      "source": [
        "model creation"
      ]
    },
    {
      "cell_type": "code",
      "execution_count": null,
      "metadata": {
        "id": "8BHbHnL9iVKc"
      },
      "outputs": [],
      "source": [
        "\n",
        "x_train,x_test,y_train,y_test=train_test_split(x,y,test_size=0.25)"
      ]
    },
    {
      "cell_type": "code",
      "execution_count": null,
      "metadata": {
        "id": "5O4-4iSziVKc",
        "outputId": "c8f7f190-a2c3-4bd1-8587-f1043f2a37fd"
      },
      "outputs": [
        {
          "data": {
            "text/html": [
              "<style>#sk-container-id-1 {color: black;background-color: white;}#sk-container-id-1 pre{padding: 0;}#sk-container-id-1 div.sk-toggleable {background-color: white;}#sk-container-id-1 label.sk-toggleable__label {cursor: pointer;display: block;width: 100%;margin-bottom: 0;padding: 0.3em;box-sizing: border-box;text-align: center;}#sk-container-id-1 label.sk-toggleable__label-arrow:before {content: \"▸\";float: left;margin-right: 0.25em;color: #696969;}#sk-container-id-1 label.sk-toggleable__label-arrow:hover:before {color: black;}#sk-container-id-1 div.sk-estimator:hover label.sk-toggleable__label-arrow:before {color: black;}#sk-container-id-1 div.sk-toggleable__content {max-height: 0;max-width: 0;overflow: hidden;text-align: left;background-color: #f0f8ff;}#sk-container-id-1 div.sk-toggleable__content pre {margin: 0.2em;color: black;border-radius: 0.25em;background-color: #f0f8ff;}#sk-container-id-1 input.sk-toggleable__control:checked~div.sk-toggleable__content {max-height: 200px;max-width: 100%;overflow: auto;}#sk-container-id-1 input.sk-toggleable__control:checked~label.sk-toggleable__label-arrow:before {content: \"▾\";}#sk-container-id-1 div.sk-estimator input.sk-toggleable__control:checked~label.sk-toggleable__label {background-color: #d4ebff;}#sk-container-id-1 div.sk-label input.sk-toggleable__control:checked~label.sk-toggleable__label {background-color: #d4ebff;}#sk-container-id-1 input.sk-hidden--visually {border: 0;clip: rect(1px 1px 1px 1px);clip: rect(1px, 1px, 1px, 1px);height: 1px;margin: -1px;overflow: hidden;padding: 0;position: absolute;width: 1px;}#sk-container-id-1 div.sk-estimator {font-family: monospace;background-color: #f0f8ff;border: 1px dotted black;border-radius: 0.25em;box-sizing: border-box;margin-bottom: 0.5em;}#sk-container-id-1 div.sk-estimator:hover {background-color: #d4ebff;}#sk-container-id-1 div.sk-parallel-item::after {content: \"\";width: 100%;border-bottom: 1px solid gray;flex-grow: 1;}#sk-container-id-1 div.sk-label:hover label.sk-toggleable__label {background-color: #d4ebff;}#sk-container-id-1 div.sk-serial::before {content: \"\";position: absolute;border-left: 1px solid gray;box-sizing: border-box;top: 0;bottom: 0;left: 50%;z-index: 0;}#sk-container-id-1 div.sk-serial {display: flex;flex-direction: column;align-items: center;background-color: white;padding-right: 0.2em;padding-left: 0.2em;position: relative;}#sk-container-id-1 div.sk-item {position: relative;z-index: 1;}#sk-container-id-1 div.sk-parallel {display: flex;align-items: stretch;justify-content: center;background-color: white;position: relative;}#sk-container-id-1 div.sk-item::before, #sk-container-id-1 div.sk-parallel-item::before {content: \"\";position: absolute;border-left: 1px solid gray;box-sizing: border-box;top: 0;bottom: 0;left: 50%;z-index: -1;}#sk-container-id-1 div.sk-parallel-item {display: flex;flex-direction: column;z-index: 1;position: relative;background-color: white;}#sk-container-id-1 div.sk-parallel-item:first-child::after {align-self: flex-end;width: 50%;}#sk-container-id-1 div.sk-parallel-item:last-child::after {align-self: flex-start;width: 50%;}#sk-container-id-1 div.sk-parallel-item:only-child::after {width: 0;}#sk-container-id-1 div.sk-dashed-wrapped {border: 1px dashed gray;margin: 0 0.4em 0.5em 0.4em;box-sizing: border-box;padding-bottom: 0.4em;background-color: white;}#sk-container-id-1 div.sk-label label {font-family: monospace;font-weight: bold;display: inline-block;line-height: 1.2em;}#sk-container-id-1 div.sk-label-container {text-align: center;}#sk-container-id-1 div.sk-container {/* jupyter's `normalize.less` sets `[hidden] { display: none; }` but bootstrap.min.css set `[hidden] { display: none !important; }` so we also need the `!important` here to be able to override the default hidden behavior on the sphinx rendered scikit-learn.org. See: https://github.com/scikit-learn/scikit-learn/issues/21755 */display: inline-block !important;position: relative;}#sk-container-id-1 div.sk-text-repr-fallback {display: none;}</style><div id=\"sk-container-id-1\" class=\"sk-top-container\"><div class=\"sk-text-repr-fallback\"><pre>MultinomialNB()</pre><b>In a Jupyter environment, please rerun this cell to show the HTML representation or trust the notebook. <br />On GitHub, the HTML representation is unable to render, please try loading this page with nbviewer.org.</b></div><div class=\"sk-container\" hidden><div class=\"sk-item\"><div class=\"sk-estimator sk-toggleable\"><input class=\"sk-toggleable__control sk-hidden--visually\" id=\"sk-estimator-id-1\" type=\"checkbox\" checked><label for=\"sk-estimator-id-1\" class=\"sk-toggleable__label sk-toggleable__label-arrow\">MultinomialNB</label><div class=\"sk-toggleable__content\"><pre>MultinomialNB()</pre></div></div></div></div></div>"
            ],
            "text/plain": [
              "MultinomialNB()"
            ]
          },
          "execution_count": 24,
          "metadata": {},
          "output_type": "execute_result"
        }
      ],
      "source": [
        "mb=MultinomialNB()\n",
        "mb.fit(x_train,y_train)"
      ]
    },
    {
      "cell_type": "code",
      "execution_count": null,
      "metadata": {
        "id": "jJcB_IBviVKc",
        "outputId": "7869d89c-7c61-4ea2-e7f2-97500e612091"
      },
      "outputs": [
        {
          "data": {
            "text/plain": [
              "0        0\n",
              "1        0\n",
              "2        0\n",
              "3        0\n",
              "4        0\n",
              "        ..\n",
              "24995    1\n",
              "24996    1\n",
              "24997    0\n",
              "24998    0\n",
              "24999    0\n",
              "Name: sentiment_map, Length: 25000, dtype: int64"
            ]
          },
          "execution_count": 25,
          "metadata": {},
          "output_type": "execute_result"
        }
      ],
      "source": [
        "y_pred=mb.predict(x_test)\n",
        "y"
      ]
    },
    {
      "cell_type": "markdown",
      "metadata": {
        "id": "UzUZkXO5iVKc"
      },
      "source": [
        "model evaluvation"
      ]
    },
    {
      "cell_type": "code",
      "execution_count": null,
      "metadata": {
        "id": "ZJ5NE37LiVKc",
        "outputId": "7ec386e6-c640-4c96-a2bb-4cb320697577"
      },
      "outputs": [
        {
          "data": {
            "text/plain": [
              "0.85952"
            ]
          },
          "execution_count": 26,
          "metadata": {},
          "output_type": "execute_result"
        }
      ],
      "source": [
        "accuaracy=accuracy_score(y_test,y_pred)\n",
        "matrix=confusion_matrix(y_test,y_pred)\n",
        "report=classification_report(y_test,y_pred)\n",
        "accuaracy"
      ]
    },
    {
      "cell_type": "code",
      "execution_count": null,
      "metadata": {
        "id": "Sg_K2weXiVKc",
        "outputId": "dc6be63b-acdb-4103-d462-70490e468e41"
      },
      "outputs": [
        {
          "data": {
            "text/plain": [
              "array([[2717,  372],\n",
              "       [ 506, 2655]], dtype=int64)"
            ]
          },
          "execution_count": 27,
          "metadata": {},
          "output_type": "execute_result"
        }
      ],
      "source": [
        "matrix"
      ]
    },
    {
      "cell_type": "code",
      "execution_count": null,
      "metadata": {
        "id": "hdwVguKRiVKd",
        "outputId": "ba5951d3-19e0-4780-ad71-70e2f97b6cf3"
      },
      "outputs": [
        {
          "data": {
            "text/plain": [
              "'              precision    recall  f1-score   support\\n\\n           0       0.84      0.88      0.86      3089\\n           1       0.88      0.84      0.86      3161\\n\\n    accuracy                           0.86      6250\\n   macro avg       0.86      0.86      0.86      6250\\nweighted avg       0.86      0.86      0.86      6250\\n'"
            ]
          },
          "execution_count": 28,
          "metadata": {},
          "output_type": "execute_result"
        }
      ],
      "source": [
        "report"
      ]
    }
  ],
  "metadata": {
    "colab": {
      "provenance": [],
      "include_colab_link": true
    },
    "kernelspec": {
      "display_name": "Python 3",
      "language": "python",
      "name": "python3"
    },
    "language_info": {
      "codemirror_mode": {
        "name": "ipython",
        "version": 3
      },
      "file_extension": ".py",
      "mimetype": "text/x-python",
      "name": "python",
      "nbconvert_exporter": "python",
      "pygments_lexer": "ipython3",
      "version": "3.10.6"
    },
    "orig_nbformat": 4
  },
  "nbformat": 4,
  "nbformat_minor": 0
}